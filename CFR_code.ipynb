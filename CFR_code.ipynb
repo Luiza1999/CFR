{
 "cells": [
  {
   "cell_type": "code",
   "execution_count": 12,
   "id": "ac785116",
   "metadata": {},
   "outputs": [],
   "source": [
    "#libraries\n",
    "import re\n",
    "import pandas as pd\n",
    "import string\n",
    "import nltk\n",
    "from collections import Counter\n",
    "from nltk.tokenize import TreebankWordTokenizer"
   ]
  },
  {
   "cell_type": "code",
   "execution_count": 13,
   "id": "20c2b2d0",
   "metadata": {},
   "outputs": [],
   "source": [
    "#function to remove tags\n",
    "def remove(xml, text):\n",
    " text = re.sub('<[^<]+>', \"\", open(xml).read())\n",
    " with open('text.txt', \"w\") as f:\n",
    "    f.write(text)"
   ]
  },
  {
   "cell_type": "code",
   "execution_count": 14,
   "id": "7764f7b1",
   "metadata": {},
   "outputs": [],
   "source": [
    "# tokenizing function with stopwords and without punctuation and getting word frequencies\n",
    "def tokenstopwords (txtfile, tknfile):\n",
    "    with open ('text.txt',\"r\") as txt1:\n",
    "        file=txt1.read()\n",
    "    #removing punctuation\n",
    "    file=file.translate(str.maketrans('', '', string.punctuation))\n",
    "    #tokenizing\n",
    "    tokenizer = TreebankWordTokenizer()\n",
    "    tokens = tokenizer.tokenize(file.lower())\n",
    "    token_counts = Counter(tokens)\n",
    "    with open(tknfile, \"w\") as doc:\n",
    "        doc.write(str(token_counts))\n"
   ]
  },
  {
   "cell_type": "code",
   "execution_count": 15,
   "id": "87af8cd3",
   "metadata": {},
   "outputs": [],
   "source": [
    "# without stopwords\n",
    "def tokennostopwords (txtfile, tknfile):\n",
    "    with open ('text.txt',\"r\") as txt1:\n",
    "        file=txt1.read()\n",
    "    #removing punctuation\n",
    "    file=file.translate(str.maketrans('', '', string.punctuation))\n",
    "    #stopwords,punctuation holders\n",
    "    nltk.download('stopwords', quiet=True)\n",
    "    punctuations = '''§!()-[]{};:'\"\\,<>./?@#$%^&*_~'''\n",
    "    stopwords = nltk.corpus.stopwords.words('english')\n",
    "    #tokenizing\n",
    "    tokenizer = TreebankWordTokenizer()\n",
    "    tokensnew = tokenizer.tokenize(file.lower())\n",
    "    tokensnew = [x for x in tokensnew if x not in stopwords and x not in string.punctuation and x not in punctuations]\n",
    "    cfr_counts = Counter(tokensnew)\n",
    "    with open(tknfile, \"w\") as doc:\n",
    "        doc.write(str(cfr_counts))"
   ]
  },
  {
   "cell_type": "code",
   "execution_count": 17,
   "id": "04432a5e",
   "metadata": {},
   "outputs": [],
   "source": [
    "#TITLE-1\n",
    "remove(\"title-1.xml\", \"title-1.txt\")\n",
    "tokenstopwords(\"title-1.txt\", \"title-1-freq-stopwords.txt\")\n",
    "tokennostopwords(\"title-1.txt\", \"title-1-freq-nostopwords.txt\")"
   ]
  },
  {
   "cell_type": "code",
   "execution_count": 18,
   "id": "e53b5e82",
   "metadata": {},
   "outputs": [],
   "source": [
    "#TITLE-2\n",
    "remove(\"title-2.xml\", \"title-2.txt\")\n",
    "tokenstopwords(\"title-2.txt\", \"title-2-freq-stopwords.txt\")\n",
    "tokennostopwords(\"title-2.txt\", \"title-2-freq-nostopwords.txt\")"
   ]
  },
  {
   "cell_type": "code",
   "execution_count": 19,
   "id": "cfb0df16",
   "metadata": {},
   "outputs": [],
   "source": [
    "#TITLE-2\n",
    "remove(\"title-3.xml\", \"title-3.txt\")\n",
    "tokenstopwords(\"title-3.txt\", \"title-3-freq-stopwords.txt\")\n",
    "tokennostopwords(\"title-3.txt\", \"title-3-freq-nostopwords.txt\")"
   ]
  },
  {
   "cell_type": "code",
   "execution_count": 20,
   "id": "2f6a93a8",
   "metadata": {},
   "outputs": [],
   "source": [
    "#TITLE-4\n",
    "remove(\"title-4.xml\", \"title-4.txt\")\n",
    "tokenstopwords(\"title-4.txt\", \"title-4-freq-stopwords.txt\")\n",
    "tokennostopwords(\"title-4.txt\", \"title-4-freq-nostopwords.txt\")"
   ]
  },
  {
   "cell_type": "code",
   "execution_count": 21,
   "id": "1cdc940b",
   "metadata": {},
   "outputs": [],
   "source": [
    "#TITLE-5\n",
    "remove(\"title-5.xml\", \"title-5.txt\")\n",
    "tokenstopwords(\"title-5.txt\", \"title-5-freq-stopwords.txt\")\n",
    "tokennostopwords(\"title-5.txt\", \"title-5-freq-nostopwords.txt\")"
   ]
  },
  {
   "cell_type": "code",
   "execution_count": 22,
   "id": "c2b0bf6b",
   "metadata": {},
   "outputs": [],
   "source": [
    "#TITLE-6\n",
    "remove(\"title-6.xml\", \"title-6.txt\")\n",
    "tokenstopwords(\"title-6.txt\", \"title-6-freq-stopwords.txt\")\n",
    "tokennostopwords(\"title-6.txt\", \"title-6-freq-nostopwords.txt\")"
   ]
  },
  {
   "cell_type": "code",
   "execution_count": 23,
   "id": "9cc49556",
   "metadata": {},
   "outputs": [],
   "source": [
    "#TITLE-7\n",
    "remove(\"title-7.xml\", \"title-7.txt\")\n",
    "tokenstopwords(\"title-7.txt\", \"title-7-freq-stopwords.txt\")\n",
    "tokennostopwords(\"title-7.txt\", \"title-7-freq-nostopwords.txt\")"
   ]
  },
  {
   "cell_type": "code",
   "execution_count": 24,
   "id": "aa8b59eb",
   "metadata": {},
   "outputs": [],
   "source": [
    "#TITLE-8\n",
    "remove(\"title-8.xml\", \"title-8.txt\")\n",
    "tokenstopwords(\"title-8.txt\", \"title-8-freq-stopwords.txt\")\n",
    "tokennostopwords(\"title-8.txt\", \"title-8-freq-nostopwords.txt\")"
   ]
  },
  {
   "cell_type": "code",
   "execution_count": 25,
   "id": "092386c0",
   "metadata": {},
   "outputs": [],
   "source": [
    "#TITLE-9\n",
    "remove(\"title-9.xml\", \"title-9.txt\")\n",
    "tokenstopwords(\"title-9.txt\", \"title-9-freq-stopwords.txt\")\n",
    "tokennostopwords(\"title-9.txt\", \"title-9-freq-nostopwords.txt\")"
   ]
  },
  {
   "cell_type": "code",
   "execution_count": 26,
   "id": "24db4ad2",
   "metadata": {},
   "outputs": [],
   "source": [
    "#TITLE-10\n",
    "remove(\"title-10.xml\", \"title-10.txt\")\n",
    "tokenstopwords(\"title-10.txt\", \"title-10-freq-stopwords.txt\")\n",
    "tokennostopwords(\"title-10.txt\", \"title-10-freq-nostopwords.txt\")"
   ]
  },
  {
   "cell_type": "code",
   "execution_count": 27,
   "id": "a26124fd",
   "metadata": {},
   "outputs": [],
   "source": [
    "#TITLE-11\n",
    "remove(\"title-11.xml\", \"title-11.txt\")\n",
    "tokenstopwords(\"title-11.txt\", \"title-11-freq-stopwords.txt\")\n",
    "tokennostopwords(\"title-11.txt\", \"title-11-freq-nostopwords.txt\")"
   ]
  },
  {
   "cell_type": "code",
   "execution_count": 28,
   "id": "c4519e01",
   "metadata": {},
   "outputs": [],
   "source": [
    "#TITLE-12\n",
    "remove(\"title-12.xml\", \"title-12.txt\")\n",
    "tokenstopwords(\"title-12.txt\", \"title-12-freq-stopwords.txt\")\n",
    "tokennostopwords(\"title-12.txt\", \"title-12-freq-nostopwords.txt\")"
   ]
  },
  {
   "cell_type": "code",
   "execution_count": 29,
   "id": "eb5367d5",
   "metadata": {},
   "outputs": [],
   "source": [
    "#TITLE-13\n",
    "remove(\"title-13.xml\", \"title-13.txt\")\n",
    "tokenstopwords(\"title-13.txt\", \"title-13-freq-stopwords.txt\")\n",
    "tokennostopwords(\"title-13.txt\", \"title-13-freq-nostopwords.txt\")"
   ]
  },
  {
   "cell_type": "code",
   "execution_count": 30,
   "id": "09866771",
   "metadata": {},
   "outputs": [],
   "source": [
    "#TITLE-14\n",
    "remove(\"title-14.xml\", \"title-14.txt\")\n",
    "tokenstopwords(\"title-14.txt\", \"title-14-freq-stopwords.txt\")\n",
    "tokennostopwords(\"title-14.txt\", \"title-14-freq-nostopwords.txt\")"
   ]
  },
  {
   "cell_type": "code",
   "execution_count": 31,
   "id": "be24135f",
   "metadata": {},
   "outputs": [],
   "source": [
    "#TITLE-15\n",
    "remove(\"title-15.xml\", \"title-15.txt\")\n",
    "tokenstopwords(\"title-15.txt\", \"title-15-freq-stopwords.txt\")\n",
    "tokennostopwords(\"title-15.txt\", \"title-15-freq-nostopwords.txt\")"
   ]
  },
  {
   "cell_type": "code",
   "execution_count": 32,
   "id": "010292d0",
   "metadata": {},
   "outputs": [],
   "source": [
    "#TITLE-16\n",
    "remove(\"title-16.xml\", \"title-16.txt\")\n",
    "tokenstopwords(\"title-16.txt\", \"title-16-freq-stopwords.txt\")\n",
    "tokennostopwords(\"title-16.txt\", \"title-16-freq-nostopwords.txt\")"
   ]
  },
  {
   "cell_type": "code",
   "execution_count": 33,
   "id": "addedee6",
   "metadata": {},
   "outputs": [],
   "source": [
    "#TITLE-17\n",
    "remove(\"title-17.xml\", \"title-17.txt\")\n",
    "tokenstopwords(\"title-17.txt\", \"title-17-freq-stopwords.txt\")\n",
    "tokennostopwords(\"title-17.txt\", \"title-17-freq-nostopwords.txt\")"
   ]
  },
  {
   "cell_type": "code",
   "execution_count": 34,
   "id": "0b506a0d",
   "metadata": {},
   "outputs": [],
   "source": [
    "#TITLE-18\n",
    "remove(\"title-18.xml\", \"title-18.txt\")\n",
    "tokenstopwords(\"title-18.txt\", \"title-18-freq-stopwords.txt\")\n",
    "tokennostopwords(\"title-18.txt\", \"title-18-freq-nostopwords.txt\")"
   ]
  },
  {
   "cell_type": "code",
   "execution_count": 35,
   "id": "00841c8f",
   "metadata": {},
   "outputs": [],
   "source": [
    "#TITLE-19\n",
    "remove(\"title-19.xml\", \"title-19.txt\")\n",
    "tokenstopwords(\"title-19.txt\", \"title-19-freq-stopwords.txt\")\n",
    "tokennostopwords(\"title-19.txt\", \"title-19-freq-nostopwords.txt\")"
   ]
  },
  {
   "cell_type": "code",
   "execution_count": 36,
   "id": "366256b8",
   "metadata": {},
   "outputs": [],
   "source": [
    "#TITLE-20\n",
    "remove(\"title-20.xml\", \"title-20.txt\")\n",
    "tokenstopwords(\"title-20.txt\", \"title-20-freq-stopwords.txt\")\n",
    "tokennostopwords(\"title-20.txt\", \"title-20-freq-nostopwords.txt\")"
   ]
  },
  {
   "cell_type": "code",
   "execution_count": 37,
   "id": "2f5bf8c0",
   "metadata": {},
   "outputs": [],
   "source": [
    "#TITLE-21\n",
    "remove(\"title-21.xml\", \"title-21.txt\")\n",
    "tokenstopwords(\"title-21.txt\", \"title-21-freq-stopwords.txt\")\n",
    "tokennostopwords(\"title-21.txt\", \"title-21-freq-nostopwords.txt\")"
   ]
  },
  {
   "cell_type": "code",
   "execution_count": 38,
   "id": "2394b580",
   "metadata": {},
   "outputs": [],
   "source": [
    "#TITLE-22\n",
    "remove(\"title-22.xml\", \"title-22.txt\")\n",
    "tokenstopwords(\"title-22.txt\", \"title-22-freq-stopwords.txt\")\n",
    "tokennostopwords(\"title-22.txt\", \"title-22-freq-nostopwords.txt\")"
   ]
  },
  {
   "cell_type": "code",
   "execution_count": 39,
   "id": "32a863a6",
   "metadata": {},
   "outputs": [],
   "source": [
    "#TITLE-23\n",
    "remove(\"title-23.xml\", \"title-23.txt\")\n",
    "tokenstopwords(\"title-23.txt\", \"title-23-freq-stopwords.txt\")\n",
    "tokennostopwords(\"title-23.txt\", \"title-23-freq-nostopwords.txt\")"
   ]
  },
  {
   "cell_type": "code",
   "execution_count": 40,
   "id": "0813823e",
   "metadata": {},
   "outputs": [],
   "source": [
    "#TITLE-24\n",
    "remove(\"title-24.xml\", \"title-24.txt\")\n",
    "tokenstopwords(\"title-24.txt\", \"title-24-freq-stopwords.txt\")\n",
    "tokennostopwords(\"title-24.txt\", \"title-24-freq-nostopwords.txt\")"
   ]
  },
  {
   "cell_type": "code",
   "execution_count": 41,
   "id": "ccdc6b63",
   "metadata": {},
   "outputs": [],
   "source": [
    "#TITLE-25\n",
    "remove(\"title-25.xml\", \"title-25.txt\")\n",
    "tokenstopwords(\"title-25.txt\", \"title-25-freq-stopwords.txt\")\n",
    "tokennostopwords(\"title-25.txt\", \"title-25-freq-nostopwords.txt\")"
   ]
  },
  {
   "cell_type": "code",
   "execution_count": 42,
   "id": "6a0b6af7",
   "metadata": {},
   "outputs": [],
   "source": [
    "#TITLE-26\n",
    "remove(\"title-26.xml\", \"title-26.txt\")\n",
    "tokenstopwords(\"title-26.txt\", \"title-26-freq-stopwords.txt\")\n",
    "tokennostopwords(\"title-26.txt\", \"title-26-freq-nostopwords.txt\")"
   ]
  },
  {
   "cell_type": "code",
   "execution_count": 43,
   "id": "c859c8ea",
   "metadata": {},
   "outputs": [],
   "source": [
    "#TITLE-27\n",
    "remove(\"title-27.xml\", \"title-27.txt\")\n",
    "tokenstopwords(\"title-27.txt\", \"title-27-freq-stopwords.txt\")\n",
    "tokennostopwords(\"title-27.txt\", \"title-27-freq-nostopwords.txt\")"
   ]
  },
  {
   "cell_type": "code",
   "execution_count": 44,
   "id": "6b1827bd",
   "metadata": {},
   "outputs": [],
   "source": [
    "#TITLE-28\n",
    "remove(\"title-28.xml\", \"title-28.txt\")\n",
    "tokenstopwords(\"title-28.txt\", \"title-28-freq-stopwords.txt\")\n",
    "tokennostopwords(\"title-28.txt\", \"title-28-freq-nostopwords.txt\")"
   ]
  },
  {
   "cell_type": "code",
   "execution_count": 45,
   "id": "8e5e0252",
   "metadata": {},
   "outputs": [],
   "source": [
    "#TITLE-29\n",
    "remove(\"title-29.xml\", \"title-29.txt\")\n",
    "tokenstopwords(\"title-29.txt\", \"title-29-freq-stopwords.txt\")\n",
    "tokennostopwords(\"title-29.txt\", \"title-29-freq-nostopwords.txt\")"
   ]
  },
  {
   "cell_type": "code",
   "execution_count": 46,
   "id": "84942314",
   "metadata": {},
   "outputs": [],
   "source": [
    "#TITLE-30\n",
    "remove(\"title-30.xml\", \"title-30.txt\")\n",
    "tokenstopwords(\"title-30.txt\", \"title-30-freq-stopwords.txt\")\n",
    "tokennostopwords(\"title-30.txt\", \"title-30-freq-nostopwords.txt\")"
   ]
  },
  {
   "cell_type": "code",
   "execution_count": 47,
   "id": "54e57427",
   "metadata": {},
   "outputs": [],
   "source": [
    "#TITLE-31\n",
    "remove(\"title-31.xml\", \"title-31.txt\")\n",
    "tokenstopwords(\"title-31.txt\", \"title-31-freq-stopwords.txt\")\n",
    "tokennostopwords(\"title-31.txt\", \"title-31-freq-nostopwords.txt\")"
   ]
  },
  {
   "cell_type": "code",
   "execution_count": 48,
   "id": "d061f6ed",
   "metadata": {},
   "outputs": [],
   "source": [
    "#TITLE-32\n",
    "remove(\"title-32.xml\", \"title-32.txt\")\n",
    "tokenstopwords(\"title-32.txt\", \"title-32-freq-stopwords.txt\")\n",
    "tokennostopwords(\"title-32.txt\", \"title-32-freq-nostopwords.txt\")"
   ]
  },
  {
   "cell_type": "code",
   "execution_count": 49,
   "id": "f47b0e79",
   "metadata": {},
   "outputs": [],
   "source": [
    "#TITLE-33\n",
    "remove(\"title-33.xml\", \"title-33.txt\")\n",
    "tokenstopwords(\"title-33.txt\", \"title-33-freq-stopwords.txt\")\n",
    "tokennostopwords(\"title-33.txt\", \"title-33-freq-nostopwords.txt\")"
   ]
  },
  {
   "cell_type": "code",
   "execution_count": 50,
   "id": "b571df78",
   "metadata": {},
   "outputs": [],
   "source": [
    "#TITLE-34\n",
    "remove(\"title-34.xml\", \"title-34.txt\")\n",
    "tokenstopwords(\"title-34.txt\", \"title-34-freq-stopwords.txt\")\n",
    "tokennostopwords(\"title-34.txt\", \"title-34-freq-nostopwords.txt\")"
   ]
  },
  {
   "cell_type": "code",
   "execution_count": 51,
   "id": "6536b814",
   "metadata": {},
   "outputs": [
    {
     "ename": "FileNotFoundError",
     "evalue": "[Errno 2] No such file or directory: 'title-35.xml'",
     "output_type": "error",
     "traceback": [
      "\u001b[0;31m---------------------------------------------------------------------------\u001b[0m",
      "\u001b[0;31mFileNotFoundError\u001b[0m                         Traceback (most recent call last)",
      "\u001b[0;32m/var/folders/rv/cx9x0sr16cv40mgs63b34g2m0000gn/T/ipykernel_26542/3807955897.py\u001b[0m in \u001b[0;36m<module>\u001b[0;34m\u001b[0m\n\u001b[1;32m      1\u001b[0m \u001b[0;31m#TITLE-35\u001b[0m\u001b[0;34m\u001b[0m\u001b[0;34m\u001b[0m\u001b[0m\n\u001b[0;32m----> 2\u001b[0;31m \u001b[0mremove\u001b[0m\u001b[0;34m(\u001b[0m\u001b[0;34m\"title-35.xml\"\u001b[0m\u001b[0;34m,\u001b[0m \u001b[0;34m\"title-35.txt\"\u001b[0m\u001b[0;34m)\u001b[0m\u001b[0;34m\u001b[0m\u001b[0;34m\u001b[0m\u001b[0m\n\u001b[0m\u001b[1;32m      3\u001b[0m \u001b[0mtokenstopwords\u001b[0m\u001b[0;34m(\u001b[0m\u001b[0;34m\"title-35.txt\"\u001b[0m\u001b[0;34m,\u001b[0m \u001b[0;34m\"title-35-freq-stopwords.txt\"\u001b[0m\u001b[0;34m)\u001b[0m\u001b[0;34m\u001b[0m\u001b[0;34m\u001b[0m\u001b[0m\n\u001b[1;32m      4\u001b[0m \u001b[0mtokennostopwords\u001b[0m\u001b[0;34m(\u001b[0m\u001b[0;34m\"title-35.txt\"\u001b[0m\u001b[0;34m,\u001b[0m \u001b[0;34m\"title-35-freq-nostopwords.txt\"\u001b[0m\u001b[0;34m)\u001b[0m\u001b[0;34m\u001b[0m\u001b[0;34m\u001b[0m\u001b[0m\n",
      "\u001b[0;32m/var/folders/rv/cx9x0sr16cv40mgs63b34g2m0000gn/T/ipykernel_26542/507215573.py\u001b[0m in \u001b[0;36mremove\u001b[0;34m(xml, text)\u001b[0m\n\u001b[1;32m      1\u001b[0m \u001b[0;31m#function to remove tags\u001b[0m\u001b[0;34m\u001b[0m\u001b[0;34m\u001b[0m\u001b[0m\n\u001b[1;32m      2\u001b[0m \u001b[0;32mdef\u001b[0m \u001b[0mremove\u001b[0m\u001b[0;34m(\u001b[0m\u001b[0mxml\u001b[0m\u001b[0;34m,\u001b[0m \u001b[0mtext\u001b[0m\u001b[0;34m)\u001b[0m\u001b[0;34m:\u001b[0m\u001b[0;34m\u001b[0m\u001b[0;34m\u001b[0m\u001b[0m\n\u001b[0;32m----> 3\u001b[0;31m  \u001b[0mtext\u001b[0m \u001b[0;34m=\u001b[0m \u001b[0mre\u001b[0m\u001b[0;34m.\u001b[0m\u001b[0msub\u001b[0m\u001b[0;34m(\u001b[0m\u001b[0;34m'<[^<]+>'\u001b[0m\u001b[0;34m,\u001b[0m \u001b[0;34m\"\"\u001b[0m\u001b[0;34m,\u001b[0m \u001b[0mopen\u001b[0m\u001b[0;34m(\u001b[0m\u001b[0mxml\u001b[0m\u001b[0;34m)\u001b[0m\u001b[0;34m.\u001b[0m\u001b[0mread\u001b[0m\u001b[0;34m(\u001b[0m\u001b[0;34m)\u001b[0m\u001b[0;34m)\u001b[0m\u001b[0;34m\u001b[0m\u001b[0;34m\u001b[0m\u001b[0m\n\u001b[0m\u001b[1;32m      4\u001b[0m  \u001b[0;32mwith\u001b[0m \u001b[0mopen\u001b[0m\u001b[0;34m(\u001b[0m\u001b[0;34m'text.txt'\u001b[0m\u001b[0;34m,\u001b[0m \u001b[0;34m\"w\"\u001b[0m\u001b[0;34m)\u001b[0m \u001b[0;32mas\u001b[0m \u001b[0mf\u001b[0m\u001b[0;34m:\u001b[0m\u001b[0;34m\u001b[0m\u001b[0;34m\u001b[0m\u001b[0m\n\u001b[1;32m      5\u001b[0m     \u001b[0mf\u001b[0m\u001b[0;34m.\u001b[0m\u001b[0mwrite\u001b[0m\u001b[0;34m(\u001b[0m\u001b[0mtext\u001b[0m\u001b[0;34m)\u001b[0m\u001b[0;34m\u001b[0m\u001b[0;34m\u001b[0m\u001b[0m\n",
      "\u001b[0;31mFileNotFoundError\u001b[0m: [Errno 2] No such file or directory: 'title-35.xml'"
     ]
    }
   ],
   "source": [
    "#TITLE-35\n",
    "remove(\"title-35.xml\", \"title-35.txt\")\n",
    "tokenstopwords(\"title-35.txt\", \"title-35-freq-stopwords.txt\")\n",
    "tokennostopwords(\"title-35.txt\", \"title-35-freq-nostopwords.txt\")"
   ]
  },
  {
   "cell_type": "code",
   "execution_count": 52,
   "id": "bea4583b",
   "metadata": {},
   "outputs": [],
   "source": [
    "#TITLE-36\n",
    "remove(\"title-36.xml\", \"title-36.txt\")\n",
    "tokenstopwords(\"title-36.txt\", \"title-36-freq-stopwords.txt\")\n",
    "tokennostopwords(\"title-36.txt\", \"title-36-freq-nostopwords.txt\")"
   ]
  },
  {
   "cell_type": "code",
   "execution_count": 53,
   "id": "8b9cfd5e",
   "metadata": {},
   "outputs": [],
   "source": [
    "#TITLE-37\n",
    "remove(\"title-37.xml\", \"title-37.txt\")\n",
    "tokenstopwords(\"title-37.txt\", \"title-37-freq-stopwords.txt\")\n",
    "tokennostopwords(\"title-37.txt\", \"title-37-freq-nostopwords.txt\")"
   ]
  },
  {
   "cell_type": "code",
   "execution_count": 54,
   "id": "a0629c34",
   "metadata": {},
   "outputs": [],
   "source": [
    "#TITLE-38\n",
    "remove(\"title-38.xml\", \"title-38.txt\")\n",
    "tokenstopwords(\"title-38.txt\", \"title-38-freq-stopwords.txt\")\n",
    "tokennostopwords(\"title-38.txt\", \"title-38-freq-nostopwords.txt\")"
   ]
  },
  {
   "cell_type": "code",
   "execution_count": 55,
   "id": "35ff98bd",
   "metadata": {},
   "outputs": [],
   "source": [
    "#TITLE-39\n",
    "remove(\"title-39.xml\", \"title-39.txt\")\n",
    "tokenstopwords(\"title-39.txt\", \"title-39-freq-stopwords.txt\")\n",
    "tokennostopwords(\"title-39.txt\", \"title-39-freq-nostopwords.txt\")"
   ]
  },
  {
   "cell_type": "code",
   "execution_count": 56,
   "id": "af0c709d",
   "metadata": {},
   "outputs": [],
   "source": [
    "#TITLE-40\n",
    "remove(\"title-40.xml\", \"title-40.txt\")\n",
    "tokenstopwords(\"title-40.txt\", \"title-40-freq-stopwords.txt\")\n",
    "tokennostopwords(\"title-40.txt\", \"title-40-freq-nostopwords.txt\")"
   ]
  },
  {
   "cell_type": "code",
   "execution_count": 57,
   "id": "63e242b0",
   "metadata": {},
   "outputs": [],
   "source": [
    "#TITLE-41\n",
    "remove(\"title-41.xml\", \"title-41.txt\")\n",
    "tokenstopwords(\"title-41.txt\", \"title-41-freq-stopwords.txt\")\n",
    "tokennostopwords(\"title-41.txt\", \"title-41-freq-nostopwords.txt\")"
   ]
  },
  {
   "cell_type": "code",
   "execution_count": 58,
   "id": "a64f2fbc",
   "metadata": {},
   "outputs": [],
   "source": [
    "#TITLE-42\n",
    "remove(\"title-42.xml\", \"title-42.txt\")\n",
    "tokenstopwords(\"title-42.txt\", \"title-42-freq-stopwords.txt\")\n",
    "tokennostopwords(\"title-42.txt\", \"title-42-freq-nostopwords.txt\")"
   ]
  },
  {
   "cell_type": "code",
   "execution_count": 59,
   "id": "2cd9b036",
   "metadata": {},
   "outputs": [],
   "source": [
    "#TITLE-43\n",
    "remove(\"title-43.xml\", \"title-43.txt\")\n",
    "tokenstopwords(\"title-43.txt\", \"title-43-freq-stopwords.txt\")\n",
    "tokennostopwords(\"title-43.txt\", \"title-43-freq-nostopwords.txt\")"
   ]
  },
  {
   "cell_type": "code",
   "execution_count": 60,
   "id": "6ca5355e",
   "metadata": {},
   "outputs": [],
   "source": [
    "#TITLE-44\n",
    "remove(\"title-44.xml\", \"title-44.txt\")\n",
    "tokenstopwords(\"title-44.txt\", \"title-44-freq-stopwords.txt\")\n",
    "tokennostopwords(\"title-44.txt\", \"title-44-freq-nostopwords.txt\")"
   ]
  },
  {
   "cell_type": "code",
   "execution_count": 61,
   "id": "5fcf0bf5",
   "metadata": {},
   "outputs": [],
   "source": [
    "#TITLE-45\n",
    "remove(\"title-45.xml\", \"title-45.txt\")\n",
    "tokenstopwords(\"title-45.txt\", \"title-45-freq-stopwords.txt\")\n",
    "tokennostopwords(\"title-45.txt\", \"title-45-freq-nostopwords.txt\")"
   ]
  },
  {
   "cell_type": "code",
   "execution_count": 62,
   "id": "4e63c462",
   "metadata": {},
   "outputs": [],
   "source": [
    "#TITLE-46\n",
    "remove(\"title-46.xml\", \"title-46.txt\")\n",
    "tokenstopwords(\"title-46.txt\", \"title-46-freq-stopwords.txt\")\n",
    "tokennostopwords(\"title-46.txt\", \"title-46-freq-nostopwords.txt\")"
   ]
  },
  {
   "cell_type": "code",
   "execution_count": 16,
   "id": "ce7e26da",
   "metadata": {},
   "outputs": [],
   "source": [
    "#TITLE-47\n",
    "remove(\"title-47.xml\", \"title-47.txt\")\n",
    "tokenstopwords(\"title-47.txt\", \"title-47-freq-stopwords.txt\")\n",
    "tokennostopwords(\"title-47.txt\", \"title-47-freq-nostopwords.txt\")"
   ]
  },
  {
   "cell_type": "code",
   "execution_count": 63,
   "id": "542c0e23",
   "metadata": {},
   "outputs": [],
   "source": [
    "#TITLE-48\n",
    "remove(\"title-48.xml\", \"title-48.txt\")\n",
    "tokenstopwords(\"title-48.txt\", \"title-48-freq-stopwords.txt\")\n",
    "tokennostopwords(\"title-48.txt\", \"title-48-freq-nostopwords.txt\")"
   ]
  },
  {
   "cell_type": "code",
   "execution_count": 64,
   "id": "4a2ae627",
   "metadata": {},
   "outputs": [],
   "source": [
    "#TITLE-49\n",
    "remove(\"title-49.xml\", \"title-49.txt\")\n",
    "tokenstopwords(\"title-49.txt\", \"title-49-freq-stopwords.txt\")\n",
    "tokennostopwords(\"title-49.txt\", \"title-49-freq-nostopwords.txt\")"
   ]
  },
  {
   "cell_type": "code",
   "execution_count": 65,
   "id": "34453014",
   "metadata": {},
   "outputs": [],
   "source": [
    "#TITLE-50\n",
    "remove(\"title-50.xml\", \"title-50.txt\")\n",
    "tokenstopwords(\"title-50.txt\", \"title-50-freq-stopwords.txt\")\n",
    "tokennostopwords(\"title-50.txt\", \"title-50-freq-nostopwords.txt\")"
   ]
  },
  {
   "cell_type": "code",
   "execution_count": null,
   "id": "3186c72a",
   "metadata": {},
   "outputs": [],
   "source": []
  }
 ],
 "metadata": {
  "kernelspec": {
   "display_name": "Python 3 (ipykernel)",
   "language": "python",
   "name": "python3"
  },
  "language_info": {
   "codemirror_mode": {
    "name": "ipython",
    "version": 3
   },
   "file_extension": ".py",
   "mimetype": "text/x-python",
   "name": "python",
   "nbconvert_exporter": "python",
   "pygments_lexer": "ipython3",
   "version": "3.9.7"
  }
 },
 "nbformat": 4,
 "nbformat_minor": 5
}
